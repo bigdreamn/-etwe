{
  "nbformat": 4,
  "nbformat_minor": 0,
  "metadata": {
    "colab": {
      "provenance": [],
      "mount_file_id": "1FHwrCePY4jLG_eBzCBVDZ-Fumk0xe4gM",
      "authorship_tag": "ABX9TyP8it3awgciwywBMBi0PbvG",
      "include_colab_link": true
    },
    "kernelspec": {
      "name": "python3",
      "display_name": "Python 3"
    },
    "language_info": {
      "name": "python"
    }
  },
  "cells": [
    {
      "cell_type": "markdown",
      "metadata": {
        "id": "view-in-github",
        "colab_type": "text"
      },
      "source": [
        "<a href=\"https://colab.research.google.com/github/bigdreamn/-etwe/blob/main/Nhom6_nguyenphamhonglam.ipynb\" target=\"_parent\"><img src=\"https://colab.research.google.com/assets/colab-badge.svg\" alt=\"Open In Colab\"/></a>"
      ]
    },
    {
      "cell_type": "code",
      "execution_count": 23,
      "metadata": {
        "colab": {
          "base_uri": "https://localhost:8080/"
        },
        "id": "7_HvuyrnbCwA",
        "outputId": "d14d9e70-775a-43c4-b5ab-369c86cd0cb7"
      },
      "outputs": [
        {
          "output_type": "stream",
          "name": "stdout",
          "text": [
            "Drive already mounted at /content/drive; to attempt to forcibly remount, call drive.mount(\"/content/drive\", force_remount=True).\n",
            "Dữ liệu ban đầu:\n",
            "   Unnamed: 0    Unnamed: 1  Unnamed: 2    Unnamed: 3           Unnamed: 4  \\\n",
            "0         NaN  MÃ SINH VIÊN         NaN        HỌ TÊN            NGÀY SINH   \n",
            "1         NaN           NaN         NaN           NaN                  NaN   \n",
            "2         NaN         SV001         NaN  NGUYỄN VĂN A  2003-12-27 00:00:00   \n",
            "3         NaN           NaN         NaN           NaN                  NaN   \n",
            "4         NaN         SV002         NaN  NGUYỄN VĂN B  2003-02-13 00:00:00   \n",
            "\n",
            "   Unnamed: 5 Unnamed: 6  Unnamed: 7       Unnamed: 8  Unnamed: 9  \\\n",
            "0         NaN  GIỚI TÍNH         NaN       NGHÀNH HỌC         NaN   \n",
            "1         NaN        NaN         NaN              NaN         NaN   \n",
            "2         NaN        NAM         NaN  Y HỌC CỔ TRUYỀN         NaN   \n",
            "3         NaN        NaN         NaN              NaN         NaN   \n",
            "4         NaN        NAM         NaN      QUẢN TRỊ KD         NaN   \n",
            "\n",
            "       Unnamed: 10  Unnamed: 11       Unnamed: 12  Unnamed: 13 Unnamed: 14  \n",
            "0  ĐIỂM TRUNG BÌNH          NaN  SỐ TÍN CHỈ ĐẠT            NaN     HỌC KÌ   \n",
            "1              NaN          NaN               NaN          NaN         NaN  \n",
            "2              7.5          NaN                60          NaN           2  \n",
            "3              NaN          NaN               NaN          NaN         NaN  \n",
            "4              9.5          NaN                70          NaN           1  \n",
            "\n",
            "Giá trị bị thiếu trong từng cột:\n",
            "Unnamed: 0     41\n",
            "Unnamed: 1     20\n",
            "Unnamed: 2     41\n",
            "Unnamed: 3     21\n",
            "Unnamed: 4     19\n",
            "Unnamed: 5     41\n",
            "Unnamed: 6     20\n",
            "Unnamed: 7     41\n",
            "Unnamed: 8     20\n",
            "Unnamed: 9     41\n",
            "Unnamed: 10    21\n",
            "Unnamed: 11    41\n",
            "Unnamed: 12    20\n",
            "Unnamed: 13    41\n",
            "Unnamed: 14    20\n",
            "dtype: int64\n",
            "\n",
            "Kiểu dữ liệu ban đầu:\n",
            "Unnamed: 0     float64\n",
            "Unnamed: 1      object\n",
            "Unnamed: 2     float64\n",
            "Unnamed: 3      object\n",
            "Unnamed: 4      object\n",
            "Unnamed: 5     float64\n",
            "Unnamed: 6      object\n",
            "Unnamed: 7     float64\n",
            "Unnamed: 8      object\n",
            "Unnamed: 9     float64\n",
            "Unnamed: 10     object\n",
            "Unnamed: 11    float64\n",
            "Unnamed: 12     object\n",
            "Unnamed: 13    float64\n",
            "Unnamed: 14     object\n",
            "dtype: object\n",
            "\n",
            "Dữ liệu đã được làm sạch và lưu vào clean_data.xlsx\n",
            "\n",
            "Thống kê mô tả dữ liệu:\n",
            "       Unnamed: 0  Unnamed: 2  Unnamed: 5  Unnamed: 7  Unnamed: 9  \\\n",
            "count         0.0         0.0         0.0         0.0         0.0   \n",
            "mean          NaN         NaN         NaN         NaN         NaN   \n",
            "std           NaN         NaN         NaN         NaN         NaN   \n",
            "min           NaN         NaN         NaN         NaN         NaN   \n",
            "25%           NaN         NaN         NaN         NaN         NaN   \n",
            "50%           NaN         NaN         NaN         NaN         NaN   \n",
            "75%           NaN         NaN         NaN         NaN         NaN   \n",
            "max           NaN         NaN         NaN         NaN         NaN   \n",
            "\n",
            "       Unnamed: 11  Unnamed: 13  \n",
            "count          0.0          0.0  \n",
            "mean           NaN          NaN  \n",
            "std            NaN          NaN  \n",
            "min            NaN          NaN  \n",
            "25%            NaN          NaN  \n",
            "50%            NaN          NaN  \n",
            "75%            NaN          NaN  \n",
            "max            NaN          NaN  \n"
          ]
        }
      ],
      "source": [
        "import pandas as pd\n",
        "import matplotlib.pyplot as plt\n",
        "import seaborn as sns\n",
        "from google.colab import drive\n",
        "from sklearn.linear_model import LinearRegression\n",
        "from sklearn.metrics import mean_squared_error, r2_score\n",
        "\n",
        "# Kết nối Google Drive\n",
        "drive.mount('/content/drive')\n",
        "\n",
        "# Đọc dữ liệu từ file Excel\n",
        "file_path = \"/content/drive/MyDrive/nhom6_nguyenphamhonglam1.xlsx\"\n",
        "df = pd.read_excel(file_path, engine='openpyxl')\n",
        "\n",
        "print(\"Dữ liệu ban đầu:\")\n",
        "print(df.head())\n",
        "\n",
        "print(\"\\nGiá trị bị thiếu trong từng cột:\")\n",
        "print(df.isnull().sum())\n",
        "\n",
        "df.fillna(df.mean(numeric_only=True), inplace=True)\n",
        "\n",
        "print(\"\\nKiểu dữ liệu ban đầu:\")\n",
        "print(df.dtypes)\n",
        "\n",
        "if \"NGÀY SINH\" in df.columns:\n",
        "    df[\"NGÀY SINH\"] = pd.to_datetime(df[\"NGÀY SINH\"], errors='coerce')\n",
        "\n",
        "df.dropna(inplace=True)\n",
        "\n",
        "df.to_excel(\"/content/drive/MyDrive/clean_data.xlsx\", index=False, engine='openpyxl')\n",
        "print(\"\\nDữ liệu đã được làm sạch và lưu vào clean_data.xlsx\")\n",
        "\n",
        "print(\"\\nThống kê mô tả dữ liệu:\")\n",
        "print(df.describe())\n",
        "\n",
        "# Biểu đồ cột: Số lượng sinh viên theo ngành học\n",
        "if \"NGÀNH HỌC\" in df.columns:\n",
        "    plt.figure(figsize=(10, 5))\n",
        "    sns.countplot(x=\"NGÀNH HỌC\", data=df, palette=\"coolwarm\")\n",
        "    plt.xticks(rotation=45)\n",
        "    plt.title(\"Số lượng sinh viên theo ngành học\")\n",
        "    plt.xlabel(\"Ngành học\")\n",
        "    plt.ylabel(\"Số lượng sinh viên\")\n",
        "    plt.grid(True)\n",
        "    plt.show()\n",
        "\n",
        "# Biểu đồ tròn: Phân bố sinh viên theo ngành học\n",
        "if \"NGÀNH HỌC\" in df.columns:\n",
        "    plt.figure(figsize=(8, 8))\n",
        "    df[\"NGÀNH HỌC\"].value_counts().plot(kind=\"pie\", autopct=\"%1.1f%%\", cmap=\"coolwarm\", startangle=90)\n",
        "    plt.title(\"Tỷ lệ sinh viên theo ngành học\")\n",
        "    plt.ylabel(\"\")\n",
        "    plt.show()\n",
        "\n",
        "# Biểu đồ hồi quy tuyến tính\n",
        "if \"SỐ TÍN CHỈ ĐẠT\" in df.columns and \"ĐIỂM TRUNG BÌNH\" in df.columns:\n",
        "    X = df[\"SỐ TÍN CHỈ ĐẠT\"].values.reshape(-1, 1)\n",
        "    y = df[\"ĐIỂM TRUNG BÌNH\"].values\n",
        "\n",
        "    model = LinearRegression()\n",
        "    model.fit(X, y)\n",
        "    y_pred = model.predict(X)\n",
        "\n",
        "    plt.figure(figsize=(8, 5))\n",
        "    plt.scatter(X, y, color=\"blue\", label=\"Dữ liệu thực tế\")\n",
        "    plt.plot(X, y_pred, color=\"red\", label=\"Dự đoán (hồi quy)\")\n",
        "    plt.title(\"Hồi quy tuyến tính: Số Tín Chỉ Đạt và Điểm Trung Bình\")\n",
        "    plt.xlabel(\"Số tín chỉ đạt\")\n",
        "    plt.ylabel(\"Điểm trung bình\")\n",
        "    plt.legend()\n",
        "    plt.grid(True)\n",
        "    plt.show()\n"
      ]
    },
    {
      "cell_type": "code",
      "source": [
        "from google.colab import drive\n",
        "drive.mount('/content/drive')"
      ],
      "metadata": {
        "colab": {
          "base_uri": "https://localhost:8080/"
        },
        "id": "jDThTdV9mBcK",
        "outputId": "587cd814-ae2b-42fb-c3c6-3a822301dc6b"
      },
      "execution_count": null,
      "outputs": [
        {
          "output_type": "stream",
          "name": "stdout",
          "text": [
            "Mounted at /content/drive\n"
          ]
        }
      ]
    }
  ]
}